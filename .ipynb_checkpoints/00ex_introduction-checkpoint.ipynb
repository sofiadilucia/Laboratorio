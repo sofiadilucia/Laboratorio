{
 "cells": [
  {
   "cell_type": "markdown",
   "metadata": {},
   "source": [
    "# **Esercizi - Lezione 1**\n",
    "---"
   ]
  },
  {
   "cell_type": "markdown",
   "metadata": {},
   "source": [
    "## Lista di esercizi\n",
    "- [Esercizio 1](#1.-The-MickeyMouse-problem)\n",
    "- [Esercizio 2](#2.-The-swap-function)\n",
    "- [Esercizio 3](#3.-Computing-the-distance)\n",
    "- [Esercizio 4](#4.-Counting-letters)\n",
    "- [Esercizio 5](#5.-Isolating-the-unique)\n",
    "- [Esercizio 6](#6.-Combination-of-functions)\n",
    "- [Esercizio 7](#7.-Cubes)\n",
    "- [Esercizio 8](#8.-Nested-list-comprehension)\n",
    "- [Esercizio 9](#9.-Normalization)\n",
    "\n",
    "- [Appunti utili](#APPUNTI-UTILI)"
   ]
  },
  {
   "cell_type": "markdown",
   "metadata": {
    "jp-MarkdownHeadingCollapsed": true
   },
   "source": [
    "## 1. The MickeyMouse problem\n",
    "---\n",
    "\n",
    "- Write a program that prints the numbers from 1 to 100. But for multiples of 3 print `Mickey` instead of the corresponding number and for the multiples of 5 print `Mouse`. For numbers which are multiples of both three and five print `MickeyMouse`\n",
    "\n",
    "- Put the result in a tuple and substitute `Mickey` with `Donald` and `Mouse` with `Duck`"
   ]
  },
  {
   "cell_type": "code",
   "execution_count": null,
   "metadata": {},
   "outputs": [],
   "source": [
    "a = []   #creo una lista vuota\n",
    "\n",
    "for i in range (1, 101):  #definisco il range\n",
    "    \n",
    "    if i % 3==0 and i % 5==0:    #devo mettere prima questa condizione\n",
    "        print('MickeyMouse')\n",
    "        a.append('MickeyMouse')\n",
    "    elif i % 3==0:\n",
    "        print('Mickey')\n",
    "        a.append('Donald')\n",
    "    elif i % 5==0:\n",
    "        print('Mouse')\n",
    "        a.append('Duck')\n",
    "    else:\n",
    "        print(i)\n",
    "        a.append(i)\n",
    "        \n",
    "t = tuple(a)       #converto la lista in una tupla\n",
    "print(t)"
   ]
  },
  {
   "cell_type": "markdown",
   "metadata": {
    "jp-MarkdownHeadingCollapsed": true
   },
   "source": [
    "## 2. The swap function\n",
    "---\n",
    "Write a function that swap the values of two input variables x and y (whatever the type). Try to do that also without a temporary variable"
   ]
  },
  {
   "cell_type": "code",
   "execution_count": 50,
   "metadata": {},
   "outputs": [],
   "source": [
    "def swapt(x, y):\n",
    "    temp = x     #conservo il valore di x\n",
    "    x = y        #assegno il valore di y ad x\n",
    "    y = temp     #assegno il valore di x a y\n",
    "    return (x, y)\n",
    "\n",
    "def swap(x, y): return (y, x)"
   ]
  },
  {
   "cell_type": "markdown",
   "metadata": {
    "jp-MarkdownHeadingCollapsed": true
   },
   "source": [
    "## 3\\. Computing the distance\n",
    "---\n",
    "Write a function that calculates and returns the euclidean distance between two points *u* and *v*, where *u* and *v* are both 2-tuples *(x,y)*. For example, if *u=(3,0)* and *v=(0,4)*, the function should return 5"
   ]
  },
  {
   "cell_type": "code",
   "execution_count": 51,
   "metadata": {},
   "outputs": [],
   "source": [
    "#----- vorrei provare con input------------\n",
    "import numpy as np\n",
    "\n",
    "u = (3, 0)\n",
    "v = (0, 4)\n",
    "\n",
    "def eucl(u, v):\n",
    "    dist = np.sqrt((u[0]-v[0])**2+(u[1]-v[1])**2)\n",
    "    return(dist)"
   ]
  },
  {
   "cell_type": "markdown",
   "metadata": {
    "jp-MarkdownHeadingCollapsed": true
   },
   "source": [
    "## 4\\. Counting letters\n",
    "---\n",
    "Write a program to calculate the number of times each character occurs in a given string *s*. Ignore differneces in capitalization"
   ]
  },
  {
   "cell_type": "code",
   "execution_count": 34,
   "metadata": {},
   "outputs": [
    {
     "name": "stdout",
     "output_type": "stream",
     "text": [
      "{'c': 2, 'o': 2, 'n': 1, 't': 3, 'i': 3, 'a': 3, 'm': 1, 'r': 2, 'e': 1}\n"
     ]
    }
   ],
   "source": [
    "s = 'contiamO i CaratTerI'\n",
    "s = s.lower()\n",
    "s = s.replace(' ', '')    #sostituisco gli spazi con niente lol - i.e. rimuovo lo spazio\n",
    "dic = {}\n",
    "\n",
    "for i in range(len(s)):               #for i in range len(lista) -> vuol dire \"ripeti questa operazione len-volte\"\n",
    "    dic[s[i]] = s.count(s[i])         #for i in lista -> vuol dire \"seleziona l'oggetto i-esimo e ripeti questa operazione len-volte\"\n",
    "print(dic)\n",
    "\n",
    "#a = dic.items()\n",
    "#print(a)"
   ]
  },
  {
   "cell_type": "code",
   "execution_count": 35,
   "metadata": {},
   "outputs": [
    {
     "name": "stdout",
     "output_type": "stream",
     "text": [
      "{'c': 2, 'o': 2, 'n': 1, 't': 3, 'i': 3, 'a': 3, 'm': 1, ' ': 2, 'r': 2, 'e': 1}\n"
     ]
    }
   ],
   "source": [
    "s = 'contiamO i CaratTerI'\n",
    "s = s.lower()\n",
    "dic = {}\n",
    "\n",
    "for i in range(len(s)):\n",
    "    dic[s[i]] = s.count(s[i])\n",
    "print(dic)\n",
    "\n",
    "#a = dic.items()\n",
    "#print(a)"
   ]
  },
  {
   "cell_type": "code",
   "execution_count": 18,
   "metadata": {},
   "outputs": [
    {
     "name": "stdout",
     "output_type": "stream",
     "text": [
      "{'c': 2, 'o': 2, 'n': 1, 't': 3, 'i': 3, 'a': 3, 'm': 1, ' ': 2, 'r': 2, 'e': 1}\n"
     ]
    }
   ],
   "source": [
    "s = 'contiamO i CaratTerI'\n",
    "s = s.lower()\n",
    "dic = {}\n",
    "\n",
    "for i in range(len(s)):\n",
    "    x = 0\n",
    "    #dic[s[i]] = None\n",
    "    for j in range(len(s)):\n",
    "            if s[i] == s[j]:\n",
    "                x = x+1\n",
    "    dic[s[i]] = x\n",
    "    \n",
    "print(dic)"
   ]
  },
  {
   "cell_type": "code",
   "execution_count": 7,
   "metadata": {},
   "outputs": [
    {
     "name": "stdout",
     "output_type": "stream",
     "text": [
      "[['c', 2], ['o', 2], ['n', 1], ['t', 3], ['i', 3], ['a', 3], ['m', 1], [' ', 2], ['r', 2], ['e', 1]]\n"
     ]
    }
   ],
   "source": [
    "s = 'contiamO i CaratTerI'\n",
    "s = s.lower()\n",
    "app = []\n",
    "out = []\n",
    "\n",
    "for i in range(len(s)):\n",
    "    if s[i] not in app:\n",
    "        app.append(s[i])\n",
    "        x = 0\n",
    "        ls = [s[i]]\n",
    "        for j in range(len(s)):\n",
    "            if s[i] == s[j]:\n",
    "                x = x+1\n",
    "        ls.append(x)    \n",
    "        out.append(ls)\n",
    "print(out)"
   ]
  },
  {
   "cell_type": "code",
   "execution_count": 2,
   "metadata": {},
   "outputs": [
    {
     "name": "stdout",
     "output_type": "stream",
     "text": [
      "[['c', 2], ['o', 2], ['n', 1], ['t', 3], ['i', 3], ['a', 3], ['m', 1], ['o', 2], [' ', 2], ['i', 3], [' ', 2], ['c', 2], ['a', 3], ['r', 2], ['a', 3], ['t', 3], ['t', 3], ['e', 1], ['r', 2], ['i', 3]]\n"
     ]
    }
   ],
   "source": [
    "s = 'contiamO i CaratTerI'\n",
    "s = s.lower()\n",
    "a = []\n",
    "\n",
    "for i in range(len(s)):\n",
    "    x = 0\n",
    "    ls = [s[i]]\n",
    "    for j in range(len(s)):\n",
    "        if s[i] == s[j]:\n",
    "            x = x+1\n",
    "    ls.append(x)    \n",
    "    a.append(ls)\n",
    "print(a)"
   ]
  },
  {
   "cell_type": "markdown",
   "metadata": {
    "jp-MarkdownHeadingCollapsed": true
   },
   "source": [
    "## 5\\. Isolating the unique\n",
    "---\n",
    "Write a function that determines and count the unique numbers in the list *l*"
   ]
  },
  {
   "cell_type": "code",
   "execution_count": 40,
   "metadata": {},
   "outputs": [],
   "source": [
    "l = [36, 45, 58, 3, 74, 96, 64, 45, 31, 10, 24, 19, 33, 86, 99, 18, 63, 70, 85,\n",
    " 85, 63, 47, 56, 42, 70, 84, 88, 55, 20, 54, 8, 56, 51, 79, 81, 57, 37, 91,\n",
    " 1, 84, 84, 36, 66, 9, 89, 50, 42, 91, 50, 95, 90, 98, 39, 16, 82, 31, 92, 41,\n",
    " 45, 30, 66, 70, 34, 85, 94, 5, 3, 36, 72, 91, 84, 34, 87, 75, 53, 51, 20, 89, 51, 20]"
   ]
  },
  {
   "cell_type": "code",
   "execution_count": null,
   "metadata": {},
   "outputs": [],
   "source": [
    "def unici #da fare----------------------------------------------------------------------"
   ]
  },
  {
   "cell_type": "code",
   "execution_count": 48,
   "metadata": {},
   "outputs": [],
   "source": [
    "#cheating ;)\n",
    "def unici():\n",
    "    un = {}\n",
    "    for i in l:\n",
    "        un[i] = None\n",
    "    return len(un)"
   ]
  },
  {
   "cell_type": "markdown",
   "metadata": {
    "jp-MarkdownHeadingCollapsed": true
   },
   "source": [
    "## 6\\. Combination of functions\n",
    "---\n",
    "Write two functions - one that returns the square of a number, and one that returns the cube. Now write a third function that returns the number raised to the 6th power using the two previous functions."
   ]
  },
  {
   "cell_type": "code",
   "execution_count": 52,
   "metadata": {},
   "outputs": [],
   "source": [
    "def square(a):\n",
    "    sq = a**2\n",
    "    return(sq)\n",
    "    \n",
    "def cube(a):\n",
    "    c = a**3\n",
    "    return(c)\n",
    "\n",
    "def sixth(a):\n",
    "    six = square(cube(a))\n",
    "    return(six)"
   ]
  },
  {
   "cell_type": "markdown",
   "metadata": {
    "jp-MarkdownHeadingCollapsed": true
   },
   "source": [
    "## 7\\. Cubes\n",
    "---\n",
    "Create a list of the cubes of x for x in *[0, 10]* using:\n",
    "\n",
    "a) a for loop\n",
    "\n",
    "b) a list comprehension"
   ]
  },
  {
   "cell_type": "code",
   "execution_count": 57,
   "metadata": {},
   "outputs": [
    {
     "name": "stdout",
     "output_type": "stream",
     "text": [
      "[0, 1, 8, 27, 64, 125, 216, 343, 512, 729, 1000]\n",
      "[0, 1, 8, 27, 64, 125, 216, 343, 512, 729, 1000]\n"
     ]
    }
   ],
   "source": [
    "cubi = []\n",
    "for x in range(0, 11):\n",
    "    cubi.append(x**3)\n",
    "print(cubi)\n",
    "\n",
    "listcom = [x**3 for x in range(0, 11)]\n",
    "print(listcom)"
   ]
  },
  {
   "cell_type": "markdown",
   "metadata": {
    "jp-MarkdownHeadingCollapsed": true
   },
   "source": [
    "## 8\\. Nested list comprehension\n",
    "---\n",
    "A Pythagorean triple is an integer solution to the Pythagorean theorem $a^2+b^2=c^2$. The first Pythagorean triple is (3,4,5). Find and put in a tuple all unique Pythagorean triples for the positive integers a, b and c less than 100."
   ]
  },
  {
   "cell_type": "code",
   "execution_count": 65,
   "metadata": {},
   "outputs": [
    {
     "name": "stdout",
     "output_type": "stream",
     "text": [
      "((3, 4, 5), (5, 12, 13), (6, 8, 10), (7, 24, 25), (8, 15, 17), (9, 12, 15), (9, 40, 41), (10, 24, 26), (11, 60, 61), (12, 16, 20), (12, 35, 37), (13, 84, 85), (14, 48, 50), (15, 20, 25), (15, 36, 39), (16, 30, 34), (16, 63, 65), (18, 24, 30), (18, 80, 82), (20, 21, 29), (20, 48, 52), (21, 28, 35), (21, 72, 75), (24, 32, 40), (24, 45, 51), (24, 70, 74), (25, 60, 65), (27, 36, 45), (28, 45, 53), (28, 96, 100), (30, 40, 50), (30, 72, 78), (32, 60, 68), (33, 44, 55), (33, 56, 65), (35, 84, 91), (36, 48, 60), (36, 77, 85), (39, 52, 65), (39, 80, 89), (40, 42, 58), (40, 75, 85), (42, 56, 70), (45, 60, 75), (48, 55, 73), (48, 64, 80), (51, 68, 85), (54, 72, 90), (57, 76, 95), (60, 63, 87), (60, 80, 100), (65, 72, 97))\n"
     ]
    }
   ],
   "source": [
    "lista = []\n",
    "\n",
    "for a in range(1, 101):\n",
    "    for b in range(1, 101):\n",
    "        for c in range(1, 101):\n",
    "            if a**2 + b**2 == c**2 and b>a:\n",
    "                numeri = (a, b, c)\n",
    "                lista.append(numeri)\n",
    "                \n",
    "print(tuple(lista))"
   ]
  },
  {
   "cell_type": "code",
   "execution_count": 69,
   "metadata": {},
   "outputs": [
    {
     "name": "stdout",
     "output_type": "stream",
     "text": [
      "((3, 4, 5), (5, 12, 13), (6, 8, 10), (7, 24, 25), (8, 15, 17), (9, 12, 15), (9, 40, 41), (10, 24, 26), (11, 60, 61), (12, 16, 20), (12, 35, 37), (13, 84, 85), (14, 48, 50), (15, 20, 25), (15, 36, 39), (16, 30, 34), (16, 63, 65), (18, 24, 30), (18, 80, 82), (20, 21, 29), (20, 48, 52), (21, 28, 35), (21, 72, 75), (24, 32, 40), (24, 45, 51), (24, 70, 74), (25, 60, 65), (27, 36, 45), (28, 45, 53), (28, 96, 100), (30, 40, 50), (30, 72, 78), (32, 60, 68), (33, 44, 55), (33, 56, 65), (35, 84, 91), (36, 48, 60), (36, 77, 85), (39, 52, 65), (39, 80, 89), (40, 42, 58), (40, 75, 85), (42, 56, 70), (45, 60, 75), (48, 55, 73), (48, 64, 80), (51, 68, 85), (54, 72, 90), (57, 76, 95), (60, 63, 87), (60, 80, 100), (65, 72, 97))\n"
     ]
    }
   ],
   "source": [
    "lista = tuple([(a, b, c) for a in range(1, 101) for b in range(a+1, 101) for c in range(1, 101) if a**2 + b**2 == c**2 and b>a])\n",
    "print(lista)"
   ]
  },
  {
   "cell_type": "markdown",
   "metadata": {
    "jp-MarkdownHeadingCollapsed": true
   },
   "source": [
    "## 9. Normalization\n",
    "---\n",
    "Write a function that takes a tuple of numbers and returns it with the entries normalized to one"
   ]
  },
  {
   "cell_type": "code",
   "execution_count": 72,
   "metadata": {},
   "outputs": [],
   "source": [
    "#ho sbagliato - normalizzazione di un vettore\n",
    "\n",
    "import numpy as np\n",
    "v = (1, 2, 3)\n",
    "\n",
    "def norm(v):\n",
    "    tmp = 0\n",
    "    for i in v:\n",
    "        tmp += i**2\n",
    "    norm = 1/np.sqrt(tmp)\n",
    "    return [j/norm for j in v]"
   ]
  },
  {
   "cell_type": "code",
   "execution_count": 78,
   "metadata": {},
   "outputs": [],
   "source": [
    "import numpy as np\n",
    "v = (5, 2, 3)\n",
    "\n",
    "def norm(v):\n",
    "    norma = 0\n",
    "    for i in v:\n",
    "        norma += i\n",
    "    return [j/norma for j in v]"
   ]
  },
  {
   "cell_type": "code",
   "execution_count": 79,
   "metadata": {},
   "outputs": [
    {
     "data": {
      "text/plain": [
       "[0.5, 0.2, 0.3]"
      ]
     },
     "execution_count": 79,
     "metadata": {},
     "output_type": "execute_result"
    }
   ],
   "source": [
    "norm(v)"
   ]
  },
  {
   "cell_type": "markdown",
   "metadata": {},
   "source": [
    "## APPUNTI UTILI\n",
    "---"
   ]
  },
  {
   "cell_type": "code",
   "execution_count": null,
   "metadata": {},
   "outputs": [],
   "source": [
    "#for i in range len(lista) -> vuol dire \"ripeti questa operazione len-volte\" - i è un numero\n",
    "#for i in lista -> vuol dire \"seleziona l'oggetto i-esimo e ripeti questa operazione len-volte\" - i è oggetto (quindi numero, stringa, etc)"
   ]
  },
  {
   "cell_type": "markdown",
   "metadata": {},
   "source": [
    "### Esempio di tabella\n",
    "Header|Header|Header|Header\n",
    "-|-|-|-\n",
    "Cell|Cell|Cell|Cell\n",
    "Cell|Cell|Cell|Cell\n",
    "Cell|Cell|Cell|Cell\n",
    "Cell|Cell|Cell|Cell"
   ]
  }
 ],
 "metadata": {
  "kernelspec": {
   "display_name": "Python 3 (ipykernel)",
   "language": "python",
   "name": "python3"
  },
  "language_info": {
   "codemirror_mode": {
    "name": "ipython",
    "version": 3
   },
   "file_extension": ".py",
   "mimetype": "text/x-python",
   "name": "python",
   "nbconvert_exporter": "python",
   "pygments_lexer": "ipython3",
   "version": "3.12.3"
  }
 },
 "nbformat": 4,
 "nbformat_minor": 4
}
